{
 "cells": [
  {
   "cell_type": "code",
   "execution_count": 5,
   "id": "ea641ccd-81d7-4a8f-8416-e83f45ee3321",
   "metadata": {},
   "outputs": [],
   "source": [
    "event = {\n",
    "    'Records': \n",
    "    [\n",
    "        {\n",
    "            'eventVersion': '2.1', \n",
    "            'eventSource': 'aws:s3', \n",
    "            'awsRegion': 'ap-south-1', \n",
    "            'eventTime': '2025-08-30T18:02:39.519Z', \n",
    "            'eventName': 'ObjectCreated:Put', \n",
    "            'userIdentity': {\n",
    "                'principalId': 'A19I7YO87FTMYT'\n",
    "            }, \n",
    "            'requestParameters': {\n",
    "                'sourceIPAddress': '157.66.147.180'\n",
    "            }, \n",
    "            'responseElements': {\n",
    "                'x-amz-request-id': 'NDBZCVG4PDWG3TGF', \n",
    "                'x-amz-id-2': '46tfEHFAKp3YkBwftU4INNgfiXDJJ7BcsFRBG2k1e6AZJjDHVmz1z9yJCc62tbuYwB6IpKWPerW5PZtZMy5A9wqQY++zkCu0zfOs0nHbQ50='\n",
    "            }, \n",
    "            's3': {\n",
    "                's3SchemaVersion': '1.0', \n",
    "                'configurationId': 'message', \n",
    "                'bucket': {\n",
    "                    'name': 'pedya-test', \n",
    "                    'ownerIdentity': {\n",
    "                        'principalId': 'A19I7YO87FTMYT'\n",
    "                    }, \n",
    "                    'arn': 'arn:aws:s3:::pedya-test'\n",
    "                }, \n",
    "                'object': {\n",
    "                    'key': 'Churn_Modelling.csv', \n",
    "                    'size': 685003, \n",
    "                    'eTag': 'b9ba4ddb73f8cbf371c60378e12bc669', \n",
    "                    'sequencer': '0068B33CBF72FA3AB9'\n",
    "                }\n",
    "            }\n",
    "        }\n",
    "    ]\n",
    "}\n"
   ]
  },
  {
   "cell_type": "code",
   "execution_count": 11,
   "id": "bd98637d-a724-427d-b570-8d61ade8b1df",
   "metadata": {},
   "outputs": [
    {
     "data": {
      "text/plain": [
       "'pedya-test'"
      ]
     },
     "execution_count": 11,
     "metadata": {},
     "output_type": "execute_result"
    }
   ],
   "source": [
    "event[\"Records\"][0]['s3']['bucket']['name']"
   ]
  },
  {
   "cell_type": "code",
   "execution_count": 13,
   "id": "aa10b817-c54a-42a4-b9c9-796046d3ba2b",
   "metadata": {},
   "outputs": [
    {
     "data": {
      "text/plain": [
       "'Churn_Modelling.csv'"
      ]
     },
     "execution_count": 13,
     "metadata": {},
     "output_type": "execute_result"
    }
   ],
   "source": [
    "event[\"Records\"][0]['s3']['object']['key']"
   ]
  },
  {
   "cell_type": "code",
   "execution_count": null,
   "id": "bb5c48e0-1664-48e2-b233-cd39f297885a",
   "metadata": {},
   "outputs": [],
   "source": []
  }
 ],
 "metadata": {
  "kernelspec": {
   "display_name": "Python 3 (ipykernel)",
   "language": "python",
   "name": "python3"
  },
  "language_info": {
   "codemirror_mode": {
    "name": "ipython",
    "version": 3
   },
   "file_extension": ".py",
   "mimetype": "text/x-python",
   "name": "python",
   "nbconvert_exporter": "python",
   "pygments_lexer": "ipython3",
   "version": "3.12.7"
  }
 },
 "nbformat": 4,
 "nbformat_minor": 5
}
